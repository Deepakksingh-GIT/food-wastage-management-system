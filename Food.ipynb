import pandas as pd
foodlists= pd.read_csv("C:/Users/user/OneDrive/Desktop/food wastage Management/food_listings_data.csv")
providers = pd.read_csv("C:/Users/user/OneDrive/Desktop/food wastage Management/providers_data (1).csv")
receivers = pd.read_csv("C:/Users/user/OneDrive/Desktop/food wastage Management/receivers_data.csv")
claims = pd.read_csv("C:/Users/user/OneDrive/Desktop/food wastage Management/claims_data.csv")
providers.columns

receivers.columns

claims.columns 

foodlists.columns
import mysql.connector

# Connect to MySQL
conn = mysql.connector.connect(
    host="localhost",
    user="root",
    password="Deepak@121",
    database="FoodWastageDB"

)

cursor = conn.cursor()

# Create Providers table
cursor.execute("""
CREATE TABLE IF NOT EXISTS Providers (
    Provider_ID INT PRIMARY KEY,
    Name VARCHAR(100),
    Type VARCHAR(50),
    Address VARCHAR(200),
    City VARCHAR(50),
    Contact VARCHAR(20)
)
""")

# Create Receivers table
cursor.execute("""
CREATE TABLE IF NOT EXISTS Receivers (
    Receiver_ID INT PRIMARY KEY,
    Name VARCHAR(100),
    Type VARCHAR(50),
    City VARCHAR(50),
    Contact VARCHAR(20)
)
""")

# Create FoodLists table
cursor.execute("""
CREATE TABLE IF NOT EXISTS FoodLists (
    Food_ID INT PRIMARY KEY,
    Food_Name VARCHAR(100),
    Quantity INT,
    Expiry_Date DATE,
    Provider_ID INT,
    Provider_Type VARCHAR(50),
    Location VARCHAR(100),
    Food_Type VARCHAR(50),
    Meal_Type VARCHAR(50),
    FOREIGN KEY (Provider_ID) REFERENCES Providers(Provider_ID)
)
""")

# Create Claims table
cursor.execute("""
CREATE TABLE IF NOT EXISTS Claims (
    Claim_ID INT PRIMARY KEY,
    Food_ID INT,
    Receiver_ID INT,
    Status VARCHAR(50),
    Timestamp DATETIME,
    FOREIGN KEY (Food_ID) REFERENCES FoodLists(Food_ID),
    FOREIGN KEY (Receiver_ID) REFERENCES Receivers(Receiver_ID)
)
""")

print("Tables created successfully!")

conn.commit()
# insert data 
for index, row in providers.iterrows():
    cursor.execute("""
        INSERT IGNORE INTO Providers (Provider_ID, Name, Type, Address, City, Contact)
        VALUES (%s, %s, %s, %s, %s, %s)
    """, tuple(row))

print("Providers inserted successfully!")

for index, row in receivers.iterrows():
    cursor.execute("""
        INSERT IGNORE INTO Receivers (Receiver_ID, Name, Type, City, Contact)
        VALUES (%s, %s, %s, %s, %s)
    """, tuple(row))

print("receivers inserted successfully!")

for index, row in foodlists.iterrows():
    cursor.execute("""
        INSERT IGNORE INTO FoodLists (Food_ID, Food_Name, Quantity, Expiry_Date, Provider_ID, Provider_Type, Location, Food_Type, Meal_Type)
        VALUES (%s, %s, %s, %s, %s, %s, %s, %s, %s)
    """, tuple(row))

print("foodlists inserted successfully!")

import datetime

for _, row in foodlists.iterrows():
    expiry_date = datetime.datetime.strptime(str(row['Expiry_Date']), "%m/%d/%Y").date()
    
    cursor.execute("""
        UPDATE FoodLists
        SET Expiry_Date = %s
        WHERE Food_ID = %s
    """, (expiry_date, row['Food_ID']))

conn.commit()
print("Expiry dates updated successfully!")

for index, row in claims.iterrows():
    cursor.execute("""
        INSERT IGNORE INTO Claims (Claim_ID, Food_ID, Receiver_ID, Status, Timestamp)
        VALUES (%s, %s, %s, %s, %s)
    """, tuple(row))

print("claims inserted successfully!")

#Data Analysis.
#Identify food wastage trends based on categories, locations, and expiry dates.
#Generate reports for effective food distribution.

#1 Food Wastage Trends by Category
query = """
    SELECT Food_Type, SUM(Quantity) AS Total_Wasted
    FROM Food_Listings
    WHERE Expiry_Date < CURDATE()
    GROUP BY Food_Type
    ORDER BY Total_Wasted DESC;
"""

cursor.execute(query)
result = cursor.fetchall()
print(result)

# Food Wastage by Location
query = """
    SELECT Location, SUM(Quantity) AS Total_Wasted
    FROM Food_Listings
    WHERE Expiry_Date < CURDATE()
    GROUP BY Location
    ORDER BY Total_Wasted DESC;
"""

cursor.execute(query)
result = cursor.fetchall()
print(result)

query = "SELECT Food_ID, Food_Name, Quantity, Expiry_Date, Location FROM Food_Listings LIMIT 10;"
cursor.execute(query)
result = cursor.fetchall()
print(result)

#reports for effective food distribution

# # 1. Top Cities by Available Food Quantity
query = """
SELECT Location, SUM(Quantity) AS Total_Food
FROM FoodLists
GROUP BY Location
ORDER BY Total_Food DESC;
"""
cursor.execute(query)
result = cursor.fetchall()
print("Food availability by city:", result)

# 2. Food Type Distribution Report

query = """
    SELECT Food_Type, SUM(Quantity) AS Total_Quantity
    FROM Food_Listings
    GROUP BY Food_Type
    ORDER BY Total_Quantity DESC;
"""
cursor.execute(query)
result = cursor.fetchall()
print("Food distribution by type:", result)

# 3. Receiver Demand vs Food Supply
query = """
    SELECT r.City, COUNT(c.Claim_ID) AS Total_Claims, 
           SUM(f.Quantity) AS Supplied_Quantity
    FROM Receivers r
    JOIN Claims c ON r.Receiver_ID = c.Receiver_ID
    JOIN Food_Listings f ON c.Food_ID = f.Food_ID
    GROUP BY r.City
    ORDER BY Total_Claims DESC;
"""
cursor.execute(query)
result = cursor.fetchall()
print("Demand vs Supply:", result)

# 4. Near-Expiry Food Report (for urgent redistribution)
query = """
SELECT Food_Name, Quantity, Expiry_Date, Location
FROM FoodLists
ORDER BY Expiry_Date ASC
LIMIT 5;
"""
cursor.execute(query)
result = cursor.fetchall()
print(result)


# 5. Most Active Providers
query = """
    SELECT p.Name, COUNT(f.Food_ID) AS Total_Donations, SUM(f.Quantity) AS Total_Quantity
    FROM Providers p
    JOIN Food_Listings f ON p.Provider_ID = f.Provider_ID
    GROUP BY p.Provider_ID, p.Name
    ORDER BY Total_Quantity DESC
    limit 5 ;
"""
cursor.execute(query)
result = cursor.fetchall()
print("Top providers:", result)
